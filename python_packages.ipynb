{
 "cells": [
  {
   "cell_type": "markdown",
   "source": "# Creating Data Science Python Package using Jupyter Notebook",
   "metadata": {
    "tags": [],
    "cell_id": "00000-fa15ef60-e586-424e-98a1-609704375ce3",
    "deepnote_cell_type": "markdown"
   }
  },
  {
   "cell_type": "markdown",
   "source": "![](Images/pythonpackage.jpg)",
   "metadata": {
    "tags": [],
    "cell_id": "00000-168b9f66-62c1-416e-a36a-2cf1ccebc59c",
    "deepnote_cell_type": "markdown"
   }
  },
  {
   "cell_type": "markdown",
   "source": ">**Creating your first data science python package straight from Jupyter Notebook.**\n\nWe are going to use the cloud Jupyter Notebook to ease the setting up of the environment and completely focus on creating a package. We have also used Object Orient Programming (OOP) fundamentals like Inheritance, objects, class, magic functions, and that I won't be discussing how each part work. I am sharing my experience of creating Python packages while taking AWS Machine Learning Foundations It took me 10 minutes to create a Python package once I knew who to build it, so practice will make you better at coding packages. \n\nHave you wondered how Python packages like Scikit-learn, pandas, and NumPy are built? They are all based on OOP to create complex and easy-to-use packages. Why do data scientists need to build python packages? In modern times OOP is a necessity and it helps users to build program and share it with the public or within organizations.  ",
   "metadata": {
    "tags": [],
    "cell_id": "00001-6f7d66cd-17a7-401d-b455-230c2d32b04f",
    "deepnote_cell_type": "markdown"
   }
  },
  {
   "cell_type": "markdown",
   "source": "# General Distribution",
   "metadata": {
    "tags": [],
    "cell_id": "00002-56560a9f-7608-4c50-9588-38085490446e",
    "deepnote_cell_type": "markdown"
   }
  },
  {
   "cell_type": "markdown",
   "source": "So, without wasting time let's dive into the coding and discuss our Parent class Distribution which will be used by **Gaussian** and **Binomial** Classes. We are using the Jupyter notebook magic function ```%%witefile <filename>``` to create python files.\n\n```%%writefile distributions/general.py```\n\nThis will create a python file into the distributions folder and to make things simple you need to create a test folder that should contain your test files, a distribution folder that should contain all your package's files, and a data folder that contains a .txt file containing data. \n\nThe **Distribution class** takes 2 arguments, `mean` and `standard deviation`, it also contains the read_data_file function to access the file and store it to the data variable. ",
   "metadata": {
    "tags": [],
    "cell_id": "00003-cf635194-ad3e-4ba1-8294-4c2974e053b2",
    "deepnote_cell_type": "markdown"
   }
  },
  {
   "cell_type": "code",
   "metadata": {
    "tags": [],
    "deepnote_to_be_reexecuted": false,
    "source_hash": "76b24093",
    "execution_start": 1626962660850,
    "execution_millis": 25,
    "allow_embed": "code_output",
    "cell_id": "00003-74ba273e-8ed3-4f54-82ee-0ba84f839843",
    "deepnote_cell_type": "code"
   },
   "source": "%%writefile distributions/general.py\nclass Distribution:\n\t\n\tdef __init__(self, mu=0, sigma=1):\n\t\n\t\t\"\"\" \n\t\tGeneric distribution class for calculating and \n\t\tvisualizing a probability distribution.\n\t\n\t\tAttributes:\n\t\t\tmean (float) representing the mean value of the distribution\n\t\t\tstdev (float) representing the standard deviation of the distribution\n\t\t\tdata_list (list of floats) a list of floats extracted from the data file\n\t\t\n\t\t\"\"\"\n\t\t\n\t\tself.mean = mu\n\t\tself.stdev = sigma\n\t\tself.data = []\n\n\n\tdef read_data_file(self, file_name):\n\t\n\t\t\"\"\"\n\t\tFunction to read in data from a txt file. The txt file should have\n\t\tone number (float) per line. The numbers are stored in the data attribute.\n\t\t\t\t\n\t\tArgs:\n\t\t\tfile_name (string): name of a file to read from\n\t\t\n\t\tReturns:\n\t\t\tNone\n\t\t\n\t\t\"\"\"\n\t\t\t\n\t\twith open(file_name) as file:\n\t\t\tdata_list = []\n\t\t\tline = file.readline()\n\t\t\twhile line:\n\t\t\t\tdata_list.append(int(line))\n\t\t\t\tline = file.readline()\n\t\tfile.close()\n\t\n\t\tself.data = data_list",
   "execution_count": null,
   "outputs": [
    {
     "name": "stdout",
     "text": "Overwriting distributions/general.py\n",
     "output_type": "stream"
    }
   ]
  },
  {
   "cell_type": "markdown",
   "source": "## Testing Distribution Class",
   "metadata": {
    "tags": [],
    "cell_id": "00004-d0640125-9194-4c2e-b5c6-b4c3a95ca1f2",
    "deepnote_cell_type": "markdown"
   }
  },
  {
   "cell_type": "markdown",
   "source": "Everything in this class is working smoothly. We have added mean, standard deviation, and loaded the ```random.txt``` file and you can see the results.",
   "metadata": {
    "tags": [],
    "cell_id": "00006-dd34520f-c050-4928-975e-a7e3eac101e2",
    "deepnote_cell_type": "markdown"
   }
  },
  {
   "cell_type": "code",
   "metadata": {
    "tags": [],
    "deepnote_to_be_reexecuted": false,
    "source_hash": "88798aa3",
    "execution_start": 1626962660884,
    "execution_millis": 22,
    "allow_embed": "code_output",
    "cell_id": "00005-050adfb2-1926-4952-bb7b-3dec8fcd9eb6",
    "deepnote_cell_type": "code"
   },
   "source": "from distributions.general import Distribution  # importing python file from directory\n\ngeneral1 = Distribution(20, 3)  # creating object with 20 mean, 30 standard deviation\nprint(\"Mean: {}, standard deviation: {}\".format(general1.mean, general1.stdev))\n\n\ngeneral1.read_data_file(\"data/random.txt\")  # loading txt file data and checking\nprint(\"Data Loaded :\", general1.data)\n\n## everything is working perfectly\n",
   "execution_count": null,
   "outputs": [
    {
     "name": "stdout",
     "text": "Mean: 20, standard deviation: 3\nData Loaded : [10, 23, 45, 12, 23, 45, 67, 100, 300, 250, 45, 68, 29, 59, 239, 934, 12, 321, 12, 32, 1]\n",
     "output_type": "stream"
    }
   ]
  },
  {
   "cell_type": "markdown",
   "source": "# Gaussain Distribution",
   "metadata": {
    "tags": [],
    "cell_id": "00006-bdfd4259-4577-4a6f-acba-a2b2c9f42f91",
    "deepnote_cell_type": "markdown"
   }
  },
  {
   "cell_type": "markdown",
   "source": "The gaussian distributions are important in statistics and are often used in the natural and social sciences to represent real-valued random variables whose distributions are not known.  - [Wikipedia](https://en.wikipedia.org/wiki/Normal_distribution)\n\n![GGraph](Images/220px-Normal_Distribution_PDF.png)",
   "metadata": {
    "tags": [],
    "cell_id": "00009-bc98cb35-c2ea-403c-938a-05c4aa35243a",
    "deepnote_cell_type": "markdown"
   }
  },
  {
   "cell_type": "markdown",
   "source": "## Mean\nThe mean of a list of numbers is the sum of all of the numbers divided by the number of numbers. [Mean - Wikipedia](https://en.wikipedia.org/wiki/Mean)\n![Picture title](Images/image-20210722-202302.png)",
   "metadata": {
    "tags": [],
    "cell_id": "00007-3c1e58a2-3898-444f-8e3c-95b52179e4ed",
    "deepnote_cell_type": "markdown"
   }
  },
  {
   "cell_type": "markdown",
   "source": "## Standard Deviation\nThis is a measure of the amount of variation of a set of values using the mean. [The BMJ](https://www.bmj.com/content/312/7047/1654)\n![Picture title](Images/image-20210722-202417.png)",
   "metadata": {
    "tags": [],
    "cell_id": "00008-6261eb0c-ba0c-46bb-a975-3e462cfa6539",
    "deepnote_cell_type": "markdown"
   }
  },
  {
   "cell_type": "markdown",
   "source": "## Probability density function\nThe parameter mu is the mean, while the parameter sigma is the standard deviation. The x is the value in a list.  \n![Picture title](Images/image-20210722-202555.png)",
   "metadata": {
    "tags": [],
    "cell_id": "00009-dd6ad162-23cc-4fae-896d-2b084657a316",
    "deepnote_cell_type": "markdown"
   }
  },
  {
   "cell_type": "markdown",
   "source": "## Gaussian Class\nWithout going deep into how inheritance work and how the magic function works, let's discuss the functions:\n\n1. Initialize the parent class Distribution\n2. Create `calculate_mean` function -> **calculate mean from data**\n3. Create `calculate_stdev` function  -> **calculate standard deviation from data **\n4. Create `plot_histogram` function  -> **display histogram using matplotlib library**\n5. Create `pdf` function -> **calculate proabaility density function of data using mean and stdev**\n6. Create `plot_histogram_pdf` function -> **plot the normalized histogram of the data and a plot of the probability density function along the same range.**\n7. Create magic function ``__add__``  -> **add together two Gaussian distributions objects**\n8. Create magic function ``__repr__`` -> **output the characteristics of the Gaussian instance**",
   "metadata": {
    "tags": [],
    "cell_id": "00013-d6e908bb-7b00-4529-889c-e52b0d471486",
    "deepnote_cell_type": "markdown"
   }
  },
  {
   "cell_type": "code",
   "metadata": {
    "tags": [],
    "deepnote_to_be_reexecuted": false,
    "source_hash": "3d37d095",
    "execution_start": 1626962660910,
    "execution_millis": 56,
    "allow_embed": "code_output",
    "cell_id": "00010-b440d159-a994-4f2f-b8fd-e21f485d9add",
    "deepnote_cell_type": "code"
   },
   "source": "%%writefile distributions/gaussian.py\nimport math\nimport matplotlib.pyplot as plt\nfrom .general import Distribution\n\nclass Gaussian(Distribution):\n\t\"\"\" \n\tGaussian distribution class for calculating and \n\tvisualizing a Gaussian distribution.\n\t\n\tAttributes:\n\t\tmean (float) representing the mean value of the distribution\n\t\tstdev (float) representing the standard deviation of the distribution\n\t\tdata_list (list of floats) a list of floats extracted from the data file\n\t\t\t\n\t\"\"\"\n\tdef __init__(self, mu=0, sigma=1):\n\t\t\n\t\tDistribution.__init__(self, mu, sigma)\n\t\n\t\t\n\t\n\tdef calculate_mean(self):\n\t\n\t\t\"\"\"\n\t\tFunction to calculate the mean of the data set.\n\t\t\n\t\tArgs: \n\t\t\tNone\n\t\t\n\t\tReturns: \n\t\t\tfloat: mean of the data set\n\t\n\t\t\"\"\"\n\t\t\t\t\t\n\t\tavg = 1.0 * sum(self.data) / len(self.data)\n\t\t\n\t\tself.mean = avg\n\t\t\n\t\treturn self.mean\n\n\n\n\tdef calculate_stdev(self, sample=True):\n\n\t\t\"\"\"\n\t\tFunction to calculate the standard deviation of the data set.\n\t\t\n\t\tArgs: \n\t\t\tsample (bool): whether the data represents a sample or population\n\t\t\n\t\tReturns: \n\t\t\tfloat: standard deviation of the data set\n\t\n\t\t\"\"\"\n\n\t\tif sample:\n\t\t\tn = len(self.data) - 1\n\t\telse:\n\t\t\tn = len(self.data)\n\t\n\t\tmean = self.calculate_mean()\n\t\n\t\tsigma = 0\n\t\n\t\tfor d in self.data:\n\t\t\tsigma += (d - mean) ** 2\n\t\t\n\t\tsigma = math.sqrt(sigma / n)\n\t\n\t\tself.stdev = sigma\n\t\t\n\t\treturn self.stdev\n\t\t\n\t\t\n\t\t\n\tdef plot_histogram(self):\n\t\t\"\"\"\n\t\tFunction to output a histogram of the instance variable data using \n\t\tmatplotlib pyplot library.\n\t\t\n\t\tArgs:\n\t\t\tNone\n\t\t\t\n\t\tReturns:\n\t\t\tNone\n\t\t\"\"\"\n\t\tplt.hist(self.data)\n\t\tplt.title('Histogram of Data')\n\t\tplt.xlabel('data')\n\t\tplt.ylabel('count')\n\t\t\n\t\t\n\t\t\n\tdef pdf(self, x):\n\t\t\"\"\"\n\t\tProbability density function calculator for the gaussian distribution.\n\t\t\n\t\tArgs:\n\t\t\tx (float): point for calculating the probability density function\n\t\t\t\n\t\t\n\t\tReturns:\n\t\t\tfloat: probability density function output\n\t\t\"\"\"\n\t\t\n\t\treturn (1.0 / (self.stdev * math.sqrt(2*math.pi))) * math.exp(-0.5*((x - self.mean) / self.stdev) ** 2)\n\t\t\n\n\tdef plot_histogram_pdf(self, n_spaces = 50):\n\n\t\t\"\"\"\n\t\tFunction to plot the normalized histogram of the data and a plot of the \n\t\tprobability density function along the same range\n\t\t\n\t\tArgs:\n\t\t\tn_spaces (int): number of data points \n\t\t\n\t\tReturns:\n\t\t\tlist: x values for the pdf plot\n\t\t\tlist: y values for the pdf plot\n\t\t\t\n\t\t\"\"\"\n\t\t\n\t\tmu = self.mean\n\t\tsigma = self.stdev\n\n\t\tmin_range = min(self.data)\n\t\tmax_range = max(self.data)\n\t\t\n\t\t # calculates the interval between x values\n\t\tinterval = 1.0 * (max_range - min_range) / n_spaces\n\n\t\tx = []\n\t\ty = []\n\t\t\n\t\t# calculate the x values to visualize\n\t\tfor i in range(n_spaces):\n\t\t\ttmp = min_range + interval*i\n\t\t\tx.append(tmp)\n\t\t\ty.append(self.pdf(tmp))\n\n\t\t# make the plots\n\t\tfig, axes = plt.subplots(2,sharex=True)\n\t\tfig.subplots_adjust(hspace=.5)\n\t\taxes[0].hist(self.data, density=True)\n\t\taxes[0].set_title('Normed Histogram of Data')\n\t\taxes[0].set_ylabel('Density')\n\n\t\taxes[1].plot(x, y)\n\t\taxes[1].set_title('Normal Distribution for \\n Sample Mean and Sample Standard Deviation')\n\t\taxes[0].set_ylabel('Density')\n\t\tplt.show()\n\n\t\treturn x, y\n\t\t\n\tdef __add__(self, other):\n\t\t\n\t\t\"\"\"\n\t\tFunction to add together two Gaussian distributions\n\t\t\n\t\tArgs:\n\t\t\tother (Gaussian): Gaussian instance\n\t\t\t\n\t\tReturns:\n\t\t\tGaussian: Gaussian distribution\n\t\t\t\n\t\t\"\"\"\n\t\t\n\t\tresult = Gaussian()\n\t\tresult.mean = self.mean + other.mean\n\t\tresult.stdev = math.sqrt(self.stdev ** 2 + other.stdev ** 2)\n\t\t\n\t\treturn result\n\t\t\n\t\t\n\tdef __repr__(self):\n\t\n\t\t\"\"\"\n\t\tFunction to output the characteristics of the Gaussian instance\n\t\t\n\t\tArgs:\n\t\t\tNone\n\t\t\n\t\tReturns:\n\t\t\tstring: characteristics of the Gaussian\n\t\t\n\t\t\"\"\"\n\t\t\n\t\treturn \"mean {}, standard deviation {}\".format(self.mean, self.stdev)",
   "execution_count": null,
   "outputs": [
    {
     "name": "stdout",
     "text": "Overwriting distributions/gaussian.py\n",
     "output_type": "stream"
    }
   ]
  },
  {
   "cell_type": "markdown",
   "source": "## Experimenting",
   "metadata": {
    "tags": [],
    "cell_id": "00011-8ea8d665-e481-4ccc-b958-b49ce8aaa19c",
    "deepnote_cell_type": "markdown"
   }
  },
  {
   "cell_type": "markdown",
   "source": "Testing ``__repr__`` magic function.",
   "metadata": {
    "tags": [],
    "cell_id": "00016-56cc172a-3b61-45a8-b58e-2fb6b65c6144",
    "deepnote_cell_type": "markdown"
   }
  },
  {
   "cell_type": "code",
   "metadata": {
    "tags": [],
    "deepnote_to_be_reexecuted": false,
    "source_hash": "c99ea5b3",
    "execution_start": 1626962660959,
    "execution_millis": 501,
    "allow_embed": "code_output",
    "cell_id": "00012-a64095fc-89fd-4898-b056-f38439f29a26",
    "deepnote_cell_type": "code"
   },
   "source": "from distributions.gaussian import Gaussian\n\nGaussian(20,3) ## checking the object magic function",
   "execution_count": null,
   "outputs": [
    {
     "output_type": "execute_result",
     "execution_count": 4,
     "data": {
      "text/plain": "mean 20, standard deviation 3"
     },
     "metadata": {}
    }
   ]
  },
  {
   "cell_type": "markdown",
   "source": "Initializing gaussian1 object with 25 mean and 2 standard deviations and then reading random.txt file from data folder.",
   "metadata": {
    "tags": [],
    "cell_id": "00018-d64c9918-9f4b-4d87-8065-ebb91f0cf9b8",
    "deepnote_cell_type": "markdown"
   }
  },
  {
   "cell_type": "code",
   "metadata": {
    "tags": [],
    "deepnote_to_be_reexecuted": false,
    "source_hash": "5709ebfa",
    "execution_start": 1626962661464,
    "execution_millis": 2,
    "allow_embed": "code_output",
    "cell_id": "00013-9443b2e6-3c27-4f44-8232-4810f59208ca",
    "deepnote_cell_type": "code"
   },
   "source": "gaussian1 = Gaussian(25, 2)\ngaussian1.read_data_file('data/random.txt')",
   "execution_count": null,
   "outputs": []
  },
  {
   "cell_type": "markdown",
   "source": "Calculating probability function on 25 means and 2 Stdev on data \n\nThen, calculating the mean and Stdev of data changes the original mean to 125.1 and Stdev to 210.77 and eventually changing our probability density function.  ",
   "metadata": {
    "tags": [],
    "cell_id": "00020-8ecd5f3c-3ac2-4968-8971-245d23bff49e",
    "deepnote_cell_type": "markdown"
   }
  },
  {
   "cell_type": "code",
   "metadata": {
    "tags": [],
    "deepnote_to_be_reexecuted": false,
    "source_hash": "22c5cd0f",
    "execution_start": 1626962661510,
    "execution_millis": 1,
    "allow_embed": "code_output",
    "cell_id": "00014-2963726e-a309-4ab7-8300-756bed5df933",
    "deepnote_cell_type": "code"
   },
   "source": "print(\"Before pdf : \", round(gaussian1.pdf(25), 5))  # checking pdf on initial mean and stdev\n\nprint(\"mean :\", round(gaussian1.calculate_mean(), 2))  # calculating mean of data\nprint(\"Stdev :\", round(gaussian1.calculate_stdev(), 2))  # calculating stdev of data\n\nprint(\"After pdf : \", round(gaussian1.pdf(75), 5))  # calcuation pdf of data\n",
   "execution_count": null,
   "outputs": [
    {
     "name": "stdout",
     "text": "Before pdf :  0.19947\nmean : 125.1\nStdev : 210.77\nAfter pdf :  0.00184\n",
     "output_type": "stream"
    }
   ]
  },
  {
   "cell_type": "markdown",
   "source": "Plotting histogram with PDF looks Awsome. ",
   "metadata": {
    "tags": [],
    "cell_id": "00022-fbdb2408-9d19-43c9-a9d2-13a10faff490",
    "deepnote_cell_type": "markdown"
   }
  },
  {
   "cell_type": "code",
   "metadata": {
    "tags": [],
    "deepnote_to_be_reexecuted": false,
    "source_hash": "9be7f3d4",
    "execution_start": 1626962661608,
    "execution_millis": 283,
    "allow_embed": "code_output",
    "cell_id": "00015-0a0e972a-ecb9-4eef-b0e4-044acd296a60",
    "deepnote_cell_type": "code"
   },
   "source": "gaussian1.plot_histogram_pdf();",
   "execution_count": null,
   "outputs": [
    {
     "data": {
      "text/plain": "<Figure size 432x288 with 2 Axes>",
      "image/png": "[encoded data removed]"
     },
     "metadata": {
      "needs_background": "light",
      "image/png": {
       "width": 404,
       "height": 264
      }
     },
     "output_type": "display_data"
    }
   ]
  },
  {
   "cell_type": "markdown",
   "source": "## Creating Gaussian Class Test File",
   "metadata": {
    "tags": [],
    "cell_id": "00017-193ab9c5-a444-4709-bdda-b87f94b82258",
    "deepnote_cell_type": "markdown"
   }
  },
  {
   "cell_type": "markdown",
   "source": ">Test-First is a great tool. It creates better understanding and productivity in the team. The result is high-quality code – both in terms of early success in finding bugs and implementing features correctly. - Gil Zilberfeld",
   "metadata": {
    "tags": [],
    "cell_id": "00027-2ade4c37-3a6f-4b6f-a002-8b4e8b6183ee",
    "deepnote_cell_type": "markdown"
   }
  },
  {
   "cell_type": "markdown",
   "source": "## The unittest\nThe unittest unit testing framework was originally inspired by JUnit and has a similar flavor as major unit testing frameworks in other languages. It supports test automation, sharing of setup and shutdown code for tests, aggregation of tests into collections, and independence of the tests from the reporting framework, see the [Documentation](https://docs.python.org/3/library/unittest.html). ",
   "metadata": {
    "tags": [],
    "cell_id": "00016-fdde76fd-21c3-4248-ba68-6b743cbef1bb",
    "deepnote_cell_type": "markdown"
   }
  },
  {
   "cell_type": "markdown",
   "source": "We are going to use the unittest library to test all of our functions so that in the future if we make any changes we can detect errors within few seconds. \n\nCreating TestGaussianClass and has all the functions to test the functions in Gaussian class. We have used the assertEqual method to hack the validity of functions. I have tested these values myself and then added them individually to test every possibility.  ",
   "metadata": {
    "tags": [],
    "cell_id": "00027-8d7041d2-98dd-4a24-ac7e-0117de265038",
    "deepnote_cell_type": "markdown"
   }
  },
  {
   "cell_type": "code",
   "metadata": {
    "tags": [],
    "deepnote_to_be_reexecuted": false,
    "source_hash": "d118c905",
    "execution_start": 1626962661892,
    "execution_millis": 12,
    "allow_embed": "code_output",
    "cell_id": "00018-2ba54212-c1c3-4063-a98f-3e2dac3bbbf5",
    "deepnote_cell_type": "code"
   },
   "source": "%%writefile test/test_gaussian.py\n\nimport unittest\nfrom distributions.gaussian import Gaussian\n\nclass TestGaussianClass(unittest.TestCase):\n    def setUp(self):\n        self.gaussian = Gaussian(35, 6)\n        self.gaussian.read_data_file('data/random.txt')\n\n    def test_initialization(self): \n        self.assertEqual(self.gaussian.mean, 35, 'incorrect mean')\n        self.assertEqual(self.gaussian.stdev, 6, 'incorrect standard deviation')\n\n    def test_readdata(self):\n        self.assertEqual(self.gaussian.data,\\\n         [10, 23, 45, 12, 23, 45, 67, 100, 300, 250, 45, 68, 29, 59, 239, 934, 12, 321, 12, 32, 1], 'data not read in correctly')\n\n    def test_meancalculation(self):\n        self.assertEqual(self.gaussian.calculate_mean(),\\\n         sum(self.gaussian.data) / float(len(self.gaussian.data)), 'calculated mean not as expected')\n\n    def test_stdevcalculation(self):\n        self.assertEqual(round(self.gaussian.calculate_stdev(), 2), 210.77, 'sample standard deviation incorrect')\n        self.assertEqual(round(self.gaussian.calculate_stdev(0), 2), 205.69, 'population standard deviation incorrect')\n\n    def test_pdf(self):\n        self.assertEqual(round(self.gaussian.pdf(25), 5), 0.01658,\\\n         'pdf function does not give expected result') \n        self.gaussian.calculate_mean()\n        self.gaussian.calculate_stdev()\n        self.assertEqual(round(self.gaussian.pdf(75), 5), 0.00184,\\\n        'pdf function after calculating mean and stdev does not give expected result')      \n\n    def test_add(self):\n        gaussian_one = Gaussian(25, 3)\n        gaussian_two = Gaussian(30, 4)\n        gaussian_sum = gaussian_one + gaussian_two\n        \n        self.assertEqual(gaussian_sum.mean, 55)\n        self.assertEqual(gaussian_sum.stdev, 5)\n\nif __name__ == '__main__':\n    unittest.main()",
   "execution_count": null,
   "outputs": [
    {
     "name": "stdout",
     "text": "Overwriting test/test_gaussian.py\n",
     "output_type": "stream"
    }
   ]
  },
  {
   "cell_type": "markdown",
   "source": "## Running Test\nLet's run our test file from the test folder using !python. As you can see all tests have passed. I did get multiple errors first and it helped me better understand how my Gaussian class is working at every level. ",
   "metadata": {
    "tags": [],
    "cell_id": "00019-2121747c-6db8-4e67-89a7-c22bdbb32c12",
    "deepnote_cell_type": "markdown"
   }
  },
  {
   "cell_type": "code",
   "metadata": {
    "tags": [],
    "deepnote_to_be_reexecuted": false,
    "source_hash": "2c849af7",
    "execution_start": 1626962661904,
    "execution_millis": 1373,
    "allow_embed": "code_output",
    "cell_id": "00020-85c625d3-c6ee-41f7-9ebe-ddb49211132e",
    "deepnote_cell_type": "code"
   },
   "source": "!python test/test_gaussian.py",
   "execution_count": null,
   "outputs": [
    {
     "name": "stdout",
     "text": "......\r\n----------------------------------------------------------------------\r\nRan 6 tests in 0.002s\r\n\r\nOK\r\n",
     "output_type": "stream"
    }
   ]
  },
  {
   "cell_type": "markdown",
   "source": "# Binomial Distribution\nThe binomial distribution with parameters n and p is the discrete probability distribution of the number of successes in a sequence of n independent experiments, each asking a yes-no question, and each with its own Boolean-valued outcome: success (with probability p) or failure (with probability q = 1 − p). [Binomial distribution - Wikipedia](https://en.wikipedia.org/wiki/Binomial_distribution)\n\n![bi](Images/1200px-Binomial_distribution_pmf.svg.png)",
   "metadata": {
    "tags": [],
    "cell_id": "00021-6aae45e9-bf00-4cc9-b39c-d07b375372cb",
    "deepnote_cell_type": "markdown"
   }
  },
  {
   "cell_type": "markdown",
   "source": "## Mean\n![Picture title](Images/image-20210722-200158.png)\n\nIn other words, a fair coin has a probability of a positive outcome (heads) p = 0.5. If you flip a coin 20 times, the mean would be 20 * 0.5 = 10; you'd expect to get 10 heads.",
   "metadata": {
    "tags": [],
    "cell_id": "00022-94d1053e-fb13-47a7-b75b-f519b3f10497",
    "deepnote_cell_type": "markdown"
   }
  },
  {
   "cell_type": "markdown",
   "source": "## Variance\n![Picture title](Images/image-20210722-200347.png)\n",
   "metadata": {
    "tags": [],
    "cell_id": "00023-1815a998-871b-4e80-9e77-f318160f9963",
    "deepnote_cell_type": "markdown"
   }
  },
  {
   "cell_type": "markdown",
   "source": "## Standard Deviation\n![Picture title](Images/image-20210722-200411.png)\nIn other words, the standard deviation is the square root of the variance.",
   "metadata": {
    "tags": [],
    "cell_id": "00024-e4a090bf-6cdf-430c-b31a-19b66f799ef9",
    "deepnote_cell_type": "markdown"
   }
  },
  {
   "cell_type": "markdown",
   "source": "## Probability density function\n![Picture title](Images/image-20210722-200427.png)\n",
   "metadata": {
    "tags": [],
    "cell_id": "00025-504992f7-b342-406a-b3db-6df53e140430",
    "deepnote_cell_type": "markdown"
   }
  },
  {
   "cell_type": "markdown",
   "source": "# Binomial Class\nWe will be using the mathematical functions mention above to create mean, standard deviation, and probability density functions. We have done the hard work in Gaussian class now we just need to follow the pattern. \n\n1. Initialize the probability and size variable  - > **p,n**\n2. Initialize the parent class Distribution - > **calculating mean and Stdev and adding it to the parent class.**\n3. Create `calculate_mean` function -> **calculate mean from data**\n4. Create `calculate_stdev` function -> **calculate standard deviation from data**\n5. Create `replace_stats_with_data` function - > **That will calculate, probability and size from data and then update new mean and standard deviation.**\n6. Create `plot_bar` function -> **display bar chart using matplotlib library**\n7. Create `pdf` function -> **calculate probability density function of data using mean and stdev**\n8. Create `plot_bar_pdf` function -> **plot the pdf of the binomial distribution**\n9. Create magic function `__add__` -> **add together two Gaussian distributions objects**\n10. Create magic function `__repr__` -> **output the characteristics of the Gaussian instance**",
   "metadata": {
    "tags": [],
    "cell_id": "00036-c8a7bd0c-8630-423c-80ed-722dc8ced54d",
    "deepnote_cell_type": "markdown"
   }
  },
  {
   "cell_type": "code",
   "metadata": {
    "tags": [],
    "deepnote_to_be_reexecuted": false,
    "source_hash": "50b82003",
    "execution_start": 1626962663300,
    "execution_millis": 48,
    "allow_embed": "code_output",
    "cell_id": "00026-5b275ed1-4caf-4d59-a335-6469f456ab77",
    "deepnote_cell_type": "code"
   },
   "source": "%%writefile distributions/binomial.py \n\nimport math\nimport matplotlib.pyplot as plt\nfrom .general import Distribution\n\nclass Binomial(Distribution):\n    \"\"\" Binomial distribution class for calculating and \n    visualizing a Binomial distribution.\n    \n    Attributes:\n        mean (float) representing the mean value of the distribution\n        stdev (float) representing the standard deviation of the distribution\n        data_list (list of floats) a list of floats to be extracted from the data file\n        p (float) representing the probability of an event occurring\n        n (int) the total number of trials\n    \n    \"\"\"         \n    \n    def __init__(self, prob=.5, size=20):\n        \n        self.p = prob\n        self.n = size\n        mu = self.calculate_mean()\n        sigma = self.calculate_stdev()\n        Distribution.__init__(self, mu, sigma)\n         \n                   \n    \n    def calculate_mean(self):\n    \n        \"\"\"Function to calculate the mean from p and n\n        \n        Args: \n            None\n        \n        Returns: \n            float: mean of the data set\n    \n        \"\"\"\n        self.mean = self.p*self.n\n        \n        return self.mean        \n        \n\n\n\n    def calculate_stdev(self):\n\n        \"\"\"Function to calculate the standard deviation from p and n.\n        \n        Args: \n            None\n        \n        Returns: \n            float: standard deviation of the data set\n    \n        \"\"\"\n        self.stdev = math.sqrt(self.n * self.p * (1 - self.p))\n        \n        return self.stdev\n        \n        \n        \n        \n    def replace_stats_with_data(self):\n    \n        \"\"\"Function to calculate p and n from the data set\n        \n        Args: \n            None\n        \n        Returns: \n            float: the p value\n            float: the n value\n    \n        \"\"\"        \n        \n        self.n = len(self.data)\n        self.p = sum(self.data)/len(self.data)\n        self.mean = self.calculate_mean()\n        self.stdev = self.calculate_stdev()\n    \n        return self.p,self.n\n        \n        \n    def plot_bar(self):\n        \"\"\"Function to output a histogram of the instance variable data using \n        matplotlib pyplot library.\n        \n        Args:\n            None\n            \n        Returns:\n            None\n        \"\"\"\n        plt.bar(x = ['0', '1'], height = [(1 - self.p) * self.n, self.p * self.n])\n        plt.title('Bar Chart of Data')\n        plt.xlabel('outcome')\n        plt.ylabel('count')    \n        \n               \n        \n    def pdf(self, k):\n        \"\"\"Probability density function calculator for the gaussian distribution.\n        \n        Args:\n            k (float): point for calculating the probability density function\n            \n        \n        Returns:\n            float: probability density function output\n        \"\"\"\n        a = math.factorial(self.n) / (math.factorial(k) * (math.factorial(self.n - k)))\n        b = (self.p ** k) * (1 - self.p) ** (self.n - k)\n        \n        return a * b\n               \n\n    def plot_bar_pdf(self):\n\n        \"\"\"Function to plot the pdf of the binomial distribution\n        \n        Args:\n            None\n        \n        Returns:\n            list: x values for the pdf plot\n            list: y values for the pdf plot\n            \n        \"\"\"\n    \n        x = []\n        y = []\n        \n        # calculate the x values to visualize\n        for i in range(self.n + 1):\n            x.append(i)\n            y.append(self.pdf(i))\n        \n        # make the plots\n        plt.bar(x, y)\n        plt.title('Distribution of Outcomes')\n        plt.ylabel('Probability')\n        plt.xlabel('Outcome')\n\n        plt.show()\n\n        return x, y\n                \n    def __add__(self, other):\n        \n        \"\"\"Function to add together two Binomial distributions with equal p\n        \n        Args:\n            other (Binomial): Binomial instance\n            \n        Returns:\n            Binomial: Binomial distribution\n            \n        \"\"\"\n        \n        try:\n            assert self.p == other.p, 'p values are not equal'\n        except AssertionError as error:\n            raise\n        \n      \n        result = Binomial()\n        result.p = self.p\n        result.n = self.n + other.n \n        result.mean = self.calculate_mean()\n        result.stdev = self.calculate_stdev()\n        return result        \n        pass\n        \n        \n    def __repr__(self):\n    \n        \"\"\"Function to output the characteristics of the Binomial instance\n        \n        Args:\n            None\n        \n        Returns:\n            string: characteristics of the Gaussian\n        \n        \"\"\"\n        \n        return \"mean {}, standard deviation {}, p {}, n {}\".format(self.mean,self.stdev,self.p,self.n)\n        pass\n",
   "execution_count": null,
   "outputs": [
    {
     "name": "stdout",
     "text": "Overwriting distributions/binomial.py\n",
     "output_type": "stream"
    }
   ]
  },
  {
   "cell_type": "markdown",
   "source": "## Experimenting\nTesting  ``__repr__`` magic function",
   "metadata": {
    "tags": [],
    "cell_id": "00027-282ba78a-aaa0-42c8-a3b5-f5b48bf97ece",
    "deepnote_cell_type": "markdown"
   }
  },
  {
   "cell_type": "code",
   "metadata": {
    "tags": [],
    "deepnote_to_be_reexecuted": false,
    "source_hash": "e4c388ba",
    "execution_start": 1626962663343,
    "execution_millis": 5,
    "allow_embed": "code_output",
    "cell_id": "00028-1c66220c-e220-4d94-ab39-0356e63aea78",
    "deepnote_cell_type": "code"
   },
   "source": "from distributions.binomial import Binomial\n\nBinomial(0.6,300)",
   "execution_count": null,
   "outputs": [
    {
     "output_type": "execute_result",
     "execution_count": 11,
     "data": {
      "text/plain": "mean 180.0, standard deviation 8.48528137423857, p 0.6, n 300"
     },
     "metadata": {}
    }
   ]
  },
  {
   "cell_type": "markdown",
   "source": "Testing Binomial object and ``read_data_file``",
   "metadata": {
    "tags": [],
    "cell_id": "00040-5fd61f05-de5c-44a4-9fc2-bb41b58b953c",
    "deepnote_cell_type": "markdown"
   }
  },
  {
   "cell_type": "code",
   "metadata": {
    "tags": [],
    "deepnote_to_be_reexecuted": false,
    "source_hash": "11524fa",
    "execution_start": 1626962663344,
    "execution_millis": 48,
    "allow_embed": "code_output",
    "cell_id": "00029-d0d9b25d-3f65-486b-9e1b-9f2ae902c4ac",
    "deepnote_cell_type": "code"
   },
   "source": "B1 = Binomial(0.4, 20) # creating object with 0.4 probability, 30 size\nprint(\"Mean: {}, standard deviation: {}\".format(B1.mean, round(B1.stdev,2)))\n\n\nB1.read_data_file(\"data/binary.txt\") # loading txt file data and checking \nprint(\"Data Loaded :\", B1.data)",
   "execution_count": null,
   "outputs": [
    {
     "name": "stdout",
     "text": "Mean: 8.0, standard deviation: 2.19\nData Loaded : [1, 0, 0, 0, 1, 1, 1, 0, 1, 0, 0, 0, 1, 1, 0, 0, 1]\n",
     "output_type": "stream"
    }
   ]
  },
  {
   "cell_type": "markdown",
   "source": "Testing pdf of the initial value of **p 0.4** and **n 20**\n\nThen, using replace_stats_with_data to calculate `p` and `n` of data and then recalculating `pdf`.",
   "metadata": {
    "tags": [],
    "cell_id": "00042-ae57544c-4a87-4123-a76c-b95a5b628a3f",
    "deepnote_cell_type": "markdown"
   }
  },
  {
   "cell_type": "code",
   "metadata": {
    "tags": [],
    "deepnote_to_be_reexecuted": false,
    "source_hash": "219fd103",
    "execution_start": 1626962663387,
    "execution_millis": 0,
    "allow_embed": "code_output",
    "cell_id": "00030-502266f5-6ef3-468b-ad21-25638bcdb88b",
    "deepnote_cell_type": "code"
   },
   "source": "print(\"Initial PDF\",round(B1.pdf(5), 5))\n\np, n = B1.replace_stats_with_data()\nprint(\"Data p: {}, n: {}\".format(round(p,3),n))\n\nprint(\"Data PDF\",round(B1.pdf(5), 5))",
   "execution_count": null,
   "outputs": [
    {
     "name": "stdout",
     "text": "Initial PDF 0.07465\nData p: 0.471, n: 17\nData PDF 0.06923\n",
     "output_type": "stream"
    }
   ]
  },
  {
   "cell_type": "markdown",
   "source": "Testing bar plot",
   "metadata": {
    "tags": [],
    "cell_id": "00044-aea792fa-f4ab-4032-8949-6cdb6dc17555",
    "deepnote_cell_type": "markdown"
   }
  },
  {
   "cell_type": "code",
   "metadata": {
    "tags": [],
    "deepnote_to_be_reexecuted": false,
    "source_hash": "40204ed4",
    "execution_start": 1626962663387,
    "execution_millis": 117,
    "allow_embed": "code_output",
    "cell_id": "00031-2e1da847-40ab-4ae0-ab73-e5575f7e97fe",
    "deepnote_cell_type": "code"
   },
   "source": "B1.plot_bar()",
   "execution_count": null,
   "outputs": [
    {
     "data": {
      "text/plain": "<Figure size 432x288 with 1 Axes>",
      "image/png": "[encoded data removed]"
     },
     "metadata": {
      "needs_background": "light",
      "image/png": {
       "width": 376,
       "height": 278
      }
     },
     "output_type": "display_data"
    }
   ]
  },
  {
   "cell_type": "markdown",
   "source": "Testing Probability Density Function bar plot.",
   "metadata": {
    "tags": [],
    "cell_id": "00046-ca08a3a1-d40e-4b01-89b4-b86d0785145f",
    "deepnote_cell_type": "markdown"
   }
  },
  {
   "cell_type": "code",
   "metadata": {
    "tags": [],
    "deepnote_to_be_reexecuted": false,
    "source_hash": "b23c7a48",
    "execution_start": 1626962663500,
    "execution_millis": 275,
    "allow_embed": "code_output",
    "cell_id": "00032-09ff9d33-0b7a-4a2f-9a76-cc1c5c844ac3",
    "deepnote_cell_type": "code"
   },
   "source": "B1.plot_bar_pdf();",
   "execution_count": null,
   "outputs": [
    {
     "data": {
      "text/plain": "<Figure size 432x288 with 1 Axes>",
      "image/png": "[encoded data removed]"
     },
     "metadata": {
      "needs_background": "light",
      "image/png": {
       "width": 398,
       "height": 278
      }
     },
     "output_type": "display_data"
    }
   ]
  },
  {
   "cell_type": "markdown",
   "source": "## Binomial Class Test Function",
   "metadata": {
    "tags": [],
    "cell_id": "00033-f542d820-e0c0-4167-b6c2-d11d8f561745",
    "deepnote_cell_type": "markdown"
   }
  },
  {
   "cell_type": "markdown",
   "source": "Again, we are going to use the ``unittest`` library to test all of our functions so that in the future if we make any changes we can detect errors within few seconds.\n\nCreating ``TestBinomialClass`` and has all the functions to test the functions in **Binomial** class. We have used the ``assertEqual method`` to hack the validity of functions. I have tested these values myself and then added them individually to test every possibility.  ",
   "metadata": {
    "tags": [],
    "cell_id": "00049-17f3fcd8-1623-4476-88b6-c9c16ec9526b",
    "deepnote_cell_type": "markdown"
   }
  },
  {
   "cell_type": "code",
   "metadata": {
    "tags": [],
    "deepnote_to_be_reexecuted": false,
    "source_hash": "c3f1fcbe",
    "execution_start": 1626962663777,
    "execution_millis": 13,
    "allow_embed": "code_output",
    "cell_id": "00034-35c4d6ff-91e9-4d9a-b5a0-3abf8ee15139",
    "deepnote_cell_type": "code"
   },
   "source": "%%writefile test/test_binomial.py\n\nimport unittest\nfrom distributions.binomial import Binomial\n\nclass TestBinomialClass(unittest.TestCase):\n    def setUp(self):\n        self.binomial = Binomial(0.4, 20)\n        self.binomial.read_data_file('data/binary.txt')\n\n    def test_initialization(self):\n        self.assertEqual(self.binomial.p, 0.4, 'p value incorrect')\n        self.assertEqual(self.binomial.n, 20, 'n value incorrect')\n\n    def test_readdata(self):\n        self.assertEqual(self.binomial.data,\\\n         [1, 0, 0, 0, 1, 1, 1, 0, 1, 0, 0, 0, 1, 1, 0, 0, 1], 'data not read in correctly')\n    \n    def test_calculatemean(self):\n        mean = self.binomial.calculate_mean()\n        self.assertEqual(mean, 8)\n    \n    def test_calculatestdev(self):\n        stdev = self.binomial.calculate_stdev()\n        self.assertEqual(round(stdev,2), 2.19)\n        \n    def test_replace_stats_with_data(self):\n        p, n = self.binomial.replace_stats_with_data()\n        self.assertEqual(round(p,3), 0.471)\n        self.assertEqual(n, 17)\n        \n    def test_pdf(self):\n        self.assertEqual(round(self.binomial.pdf(5), 5), 0.07465)\n        self.assertEqual(round(self.binomial.pdf(3), 5), 0.01235)\n    \n        self.binomial.replace_stats_with_data()\n        self.assertEqual(round(self.binomial.pdf(5), 5), 0.06923)\n        self.assertEqual(round(self.binomial.pdf(3), 5), 0.00963)\n\n    def test_add(self):\n        binomial_one = Binomial(.4, 20)\n        binomial_two = Binomial(.4, 60)\n        binomial_sum = binomial_one + binomial_two\n        \n        self.assertEqual(binomial_sum.p, .4)\n        self.assertEqual(binomial_sum.n, 80)\n        \n    \nif __name__ == '__main__':\n    unittest.main()",
   "execution_count": null,
   "outputs": [
    {
     "name": "stdout",
     "text": "Overwriting test/test_binomial.py\n",
     "output_type": "stream"
    }
   ]
  },
  {
   "cell_type": "markdown",
   "source": "## Running Test\nRunning the test_binomial.py shows that no error was found during testing. ",
   "metadata": {
    "tags": [],
    "cell_id": "00035-2799265d-326e-47d0-b40d-0e36883c9c96",
    "deepnote_cell_type": "markdown"
   }
  },
  {
   "cell_type": "code",
   "metadata": {
    "tags": [],
    "deepnote_to_be_reexecuted": false,
    "source_hash": "9496141",
    "execution_start": 1626962663787,
    "execution_millis": 1412,
    "allow_embed": "code_output",
    "cell_id": "00036-eb7fd12e-fe5b-4c01-a5c5-7d61bbdf205d",
    "deepnote_cell_type": "code"
   },
   "source": "!python test/test_binomial.py",
   "execution_count": null,
   "outputs": [
    {
     "name": "stdout",
     "text": ".......\r\n----------------------------------------------------------------------\r\nRan 7 tests in 0.002s\r\n\r\nOK\r\n",
     "output_type": "stream"
    }
   ]
  },
  {
   "cell_type": "markdown",
   "source": "# Creating *____init____.py* Function\n\nWe need to create ``__init__.py`` file in the distributions folder to initial the Classes within the python file. This will help us call specific classes directly. \n\nWe have inintaite Binomial and Gaussian class.",
   "metadata": {
    "tags": [],
    "cell_id": "00053-09b30898-0f94-4237-8260-f4c07a0a4287",
    "deepnote_cell_type": "markdown"
   }
  },
  {
   "cell_type": "code",
   "metadata": {
    "tags": [],
    "deepnote_to_be_reexecuted": false,
    "source_hash": "484359ac",
    "execution_start": 1626962843207,
    "execution_millis": 12,
    "allow_embed": "code_output",
    "cell_id": "00037-ca7b0d69-82cd-44b3-81f7-7bc58ac6077b",
    "deepnote_cell_type": "code"
   },
   "source": "%%writefile distributions/__init__.py\n\nfrom .binomial import Binomial\nfrom .gaussian import Gaussian",
   "execution_count": null,
   "outputs": [
    {
     "name": "stdout",
     "text": "Writing distributions/__init__.py\n",
     "output_type": "stream"
    }
   ]
  },
  {
   "cell_type": "markdown",
   "source": "# Creating _setup.py_ Function\nsetup.py function giving all necessary information about the package. It uses setuptools library to create package name, version, description, author name, etc. We have to create this file outside the distribution folder.",
   "metadata": {
    "tags": [],
    "cell_id": "00055-ce0e6b91-6e90-4165-8585-4fe2efea4405",
    "deepnote_cell_type": "markdown"
   }
  },
  {
   "cell_type": "code",
   "metadata": {
    "tags": [],
    "deepnote_to_be_reexecuted": false,
    "source_hash": "40d0a46d",
    "execution_start": 1626962945099,
    "execution_millis": 4,
    "allow_embed": "code_output",
    "cell_id": "00038-82fe788c-d8e3-4e3b-9ec5-e2277ec46fe6",
    "deepnote_cell_type": "code"
   },
   "source": "%%writefile setup.py\n\nfrom setuptools import setup\n\nsetup(name='distributions',\n      version='0.2',\n      description='Gaussian and Binomial distributions',\n      packages=['distributions'],\n      author = \"Abid Ali Awan\",\n      author_email = \"abidaliawan@rocketmail.com\",\n      zip_safe=False)\n",
   "execution_count": null,
   "outputs": [
    {
     "name": "stdout",
     "text": "Writing setup.py\n",
     "output_type": "stream"
    }
   ]
  },
  {
   "cell_type": "markdown",
   "source": "# Directory\nYou can see how your directory should look like.",
   "metadata": {
    "tags": [],
    "cell_id": "00057-324d48a3-75b6-425c-9219-82f63bda3eb2",
    "deepnote_cell_type": "markdown"
   }
  },
  {
   "cell_type": "markdown",
   "source": "![Picture title](Images/image-20210724-124844.png)",
   "metadata": {
    "tags": [],
    "cell_id": "00058-be88bc27-2012-4b71-82d8-3ac05f70b1e0",
    "deepnote_cell_type": "markdown"
   }
  },
  {
   "cell_type": "markdown",
   "source": "# Installing distributions Package\nLet's install the package by going into the Linux terminal and going into the work directory by using a cd.  Then, use ``pip install .`` or ``pip install -U .``",
   "metadata": {
    "tags": [],
    "cell_id": "00059-8277f9dc-a5bd-4c31-97ac-17db1fc675e4",
    "deepnote_cell_type": "markdown"
   }
  },
  {
   "cell_type": "markdown",
   "source": "```\n(venv) root@deepnote:~/work # pip install -U .\n\n```\n\n```\nProcessing /work\nBuilding wheels for collected packages: distributions\n  Building wheel for distributions (setup.py) ... done\n  Created wheel for distributions: filename=distributions-0.2-py3-none-any.whl size=4800 sha256=39bc76cbf407b2870caea42b684b05efc15641c0583f195f36a315b3bc4476da\n  Stored in directory: /tmp/pip-ephem-wheel-cache-ef8q6wh9/wheels/95/55/fb/4ee852231f420991169c6c5d3eb5b02c36aea6b6f444965b4b\nSuccessfully built distributions\nInstalling collected packages: distributions\n  Attempting uninstall: distributions\n    Found existing installation: distributions 0.2\n    Uninstalling distributions-0.2:\n      Successfully uninstalled distributions-0.2\nSuccessfully installed distributions-0.2\n```",
   "metadata": {
    "tags": [],
    "cell_id": "00039-0b4c7222-1b6f-43c4-bdb4-c4b788d5a52b",
    "deepnote_cell_type": "markdown"
   }
  },
  {
   "cell_type": "markdown",
   "source": "# Testing our Package\nLet's test our package directly from the terminal and it seems like everything is working fine. Well done you have created your first python package. ",
   "metadata": {
    "tags": [],
    "cell_id": "00061-8a77191f-8463-4f23-8388-58a133de652b",
    "deepnote_cell_type": "markdown"
   }
  },
  {
   "cell_type": "markdown",
   "source": "```\n>>> from distributions import Gaussian\n>>> from distributions import Binomial\n>>> \n>>> print(Gaussian(20,6))\nmean 20, standard deviation 6\n>>> print(Binomial(0.4,50))\nmean 20.0, standard deviation 3.4641016151377544, p 0.4, n 50\n>>> \n```",
   "metadata": {
    "tags": [],
    "cell_id": "00040-d26152f4-484a-494a-b7ba-67b484387677",
    "deepnote_cell_type": "markdown"
   }
  },
  {
   "cell_type": "markdown",
   "source": "Do ask me questions in the comments and that's it, I hope you enjoyed my article.💖  ",
   "metadata": {
    "tags": [],
    "cell_id": "00063-ba6a536a-4bf2-4d4b-a705-7cdde8d1cc07",
    "deepnote_cell_type": "markdown"
   }
  },
  {
   "cell_type": "markdown",
   "source": "<a style='text-decoration:none;line-height:16px;display:flex;color:#5B5B62;padding:10px;justify-content:end;' href='https://deepnote.com?utm_source=created-in-deepnote-cell&projectId=26f0292e-10a2-408a-a3fb-4c91f8f01f75' target=\"_blank\">\n<img alt='Created in deepnote.com' style='display:inline;max-height:16px;margin:0px;margin-right:7.5px;' src='data:image/svg+xml;base64,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' > </img>\nCreated in <span style='font-weight:600;margin-left:4px;'>Deepnote</span></a>",
   "metadata": {
    "tags": [],
    "created_in_deepnote_cell": true,
    "deepnote_cell_type": "markdown"
   }
  }
 ],
 "nbformat": 4,
 "nbformat_minor": 2,
 "metadata": {
  "orig_nbformat": 2,
  "deepnote": {
   "is_reactive": false
  },
  "deepnote_notebook_id": "c1cff65f-4526-463c-af8c-90e8a02fb7d2",
  "deepnote_execution_queue": []
 }
}